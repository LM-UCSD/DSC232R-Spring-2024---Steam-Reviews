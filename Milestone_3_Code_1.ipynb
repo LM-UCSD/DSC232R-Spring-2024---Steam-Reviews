{
 "cells": [
  {
   "cell_type": "markdown",
   "id": "34fca406-bb31-409e-9f49-1bc55cd1805a",
   "metadata": {},
   "source": [
    "Data is avaliable from Kaggle here:\n",
    "\n",
    "https://www.kaggle.com/datasets/kieranpoc/steam-reviews\n",
    "\n",
    "In order to download the dataset, you'll either to download manually and unzip the compresed file into the appropriate folder (folder {ACCESS User name}/kaggle/all_reviews) or you can follow the following directions:\n",
    "\n",
    "1. Create a Kaggle Account or Login\n",
    "2. Go to account \"Settings\"\n",
    "3. Scroll down to the \"API\" Section and click \"Create New Token\"\n",
    "4. You'll recieve a file called \"kaggle.json\" this is your token.\n",
    "5. Run the following cells (uncomment the cell)"
   ]
  },
  {
   "cell_type": "code",
   "execution_count": 1,
   "id": "a9da838d-5ad9-45cc-95d6-ddd6074ee466",
   "metadata": {},
   "outputs": [
    {
     "name": "stdout",
     "output_type": "stream",
     "text": [
      "\u001b[33mWARNING: The directory '/home/jovyan/.cache/pip' or its parent directory is not owned or is not writable by the current user. The cache has been disabled. Check the permissions and owner of that directory. If executing pip with sudo, you should use sudo's -H flag.\u001b[0m\u001b[33m\n",
      "\u001b[0mDefaulting to user installation because normal site-packages is not writeable\n",
      "Requirement already satisfied: kaggle in /home/zranjbar/.local/lib/python3.11/site-packages (1.6.12)\n",
      "Requirement already satisfied: six>=1.10 in /opt/conda/lib/python3.11/site-packages (from kaggle) (1.16.0)\n",
      "Requirement already satisfied: certifi>=2023.7.22 in /opt/conda/lib/python3.11/site-packages (from kaggle) (2024.2.2)\n",
      "Requirement already satisfied: python-dateutil in /opt/conda/lib/python3.11/site-packages (from kaggle) (2.8.2)\n",
      "Requirement already satisfied: requests in /opt/conda/lib/python3.11/site-packages (from kaggle) (2.31.0)\n",
      "Requirement already satisfied: tqdm in /opt/conda/lib/python3.11/site-packages (from kaggle) (4.66.1)\n",
      "Requirement already satisfied: python-slugify in /home/zranjbar/.local/lib/python3.11/site-packages (from kaggle) (8.0.4)\n",
      "Requirement already satisfied: urllib3 in /opt/conda/lib/python3.11/site-packages (from kaggle) (2.0.7)\n",
      "Requirement already satisfied: bleach in /opt/conda/lib/python3.11/site-packages (from kaggle) (6.1.0)\n",
      "Requirement already satisfied: webencodings in /opt/conda/lib/python3.11/site-packages (from bleach->kaggle) (0.5.1)\n",
      "Requirement already satisfied: text-unidecode>=1.3 in /home/zranjbar/.local/lib/python3.11/site-packages (from python-slugify->kaggle) (1.3)\n",
      "Requirement already satisfied: charset-normalizer<4,>=2 in /opt/conda/lib/python3.11/site-packages (from requests->kaggle) (3.3.0)\n",
      "Requirement already satisfied: idna<4,>=2.5 in /opt/conda/lib/python3.11/site-packages (from requests->kaggle) (3.4)\n",
      "mkdir: cannot create directory ‘kaggle’: File exists\n"
     ]
    }
   ],
   "source": [
    "!pip install kaggle\n",
    "!mkdir kaggle"
   ]
  },
  {
   "cell_type": "markdown",
   "id": "77f880fe-d2ea-48fc-8e3b-d932dc127427",
   "metadata": {},
   "source": [
    "6. Add the .json file to the new 'kaggle' directory\n",
    "7. Run the following cells (note the .zip file is 17 Gbs, and it will unzip into a ~43 Gbs csv file)"
   ]
  },
  {
   "cell_type": "code",
   "execution_count": 4,
   "id": "73d8bbd9-5d2c-434f-b456-aa09fc14e839",
   "metadata": {},
   "outputs": [
    {
     "name": "stdout",
     "output_type": "stream",
     "text": [
      "/bin/bash: line 1: kaggle: command not found\n",
      "unzip:  cannot find or open /home/zranjbar/kaggle/steam-reviews.zip, /home/zranjbar/kaggle/steam-reviews.zip.zip or /home/zranjbar/kaggle/steam-reviews.zip.ZIP.\n"
     ]
    }
   ],
   "source": [
    "!kaggle datasets download kieranpoc/steam-reviews -p ~/kaggle\n",
    "!unzip ~/kaggle/steam-reviews.zip -d ~/kaggle"
   ]
  },
  {
   "cell_type": "code",
   "execution_count": 4,
   "id": "fcfd5e9f-08cd-496b-bf04-b449e6be8b36",
   "metadata": {
    "scrolled": true
   },
   "outputs": [
    {
     "name": "stdout",
     "output_type": "stream",
     "text": [
      "Dataset URL: https://www.kaggle.com/datasets/kieranpoc/steam-reviews\n",
      "License(s): MIT\n",
      "Downloading steam-reviews.zip to /home/zranjbar/kaggle\n",
      "100%|█████████████████████████████████████▉| 16.1G/16.1G [14:09<00:00, 21.0MB/s]\n",
      "100%|██████████████████████████████████████| 16.1G/16.1G [14:09<00:00, 20.3MB/s]\n",
      "Archive:  /home/zranjbar/kaggle/steam-reviews.zip\n",
      "  inflating: /home/zranjbar/kaggle/all_reviews/all_reviews.csv  \n",
      "  inflating: /home/zranjbar/kaggle/weighted_score_above_08.csv  \n"
     ]
    }
   ],
   "source": [
    "import os\n",
    "os.environ['PATH'] += os.pathsep + os.path.expanduser('~/.local/bin')\n",
    "!kaggle datasets download kieranpoc/steam-reviews -p ~/kaggle\n",
    "!unzip -o ~/kaggle/steam-reviews.zip -d ~/kaggle"
   ]
  },
  {
   "cell_type": "code",
   "execution_count": 30,
   "id": "bbf6bed0-e251-4f33-84dc-8cf2eddfc51e",
   "metadata": {},
   "outputs": [],
   "source": [
    "from pyspark.sql import SparkSession\n",
    "from pyspark.sql.functions import col\n",
    "import pandas as pd\n",
    "import matplotlib.pyplot as plt\n",
    "import seaborn as sns\n",
    "\n",
    "from pyspark.ml.feature import VectorAssembler\n",
    "from pyspark.ml.classification import LogisticRegression\n",
    "from pyspark.ml.evaluation import MulticlassClassificationEvaluator\n",
    "from pyspark.ml.evaluation import BinaryClassificationEvaluator"
   ]
  },
  {
   "cell_type": "code",
   "execution_count": 12,
   "id": "2976e4b7-7e1e-4a55-8206-737b1294997e",
   "metadata": {},
   "outputs": [],
   "source": [
    "sc = SparkSession.builder \\\n",
    "    .config(\"spark.driver.memory\", \"8g\") \\\n",
    "    .config(\"spark.executor.memory\", \"2g\") \\\n",
    "    .config('spark.executor.instances', 3) \\\n",
    "    .appName(\"Steam Reviews\") \\\n",
    "    .getOrCreate()"
   ]
  },
  {
   "cell_type": "markdown",
   "id": "3d266bfb-d176-4e73-82d5-d8078c4664dd",
   "metadata": {},
   "source": [
    "Data Preprocessing"
   ]
  },
  {
   "cell_type": "code",
   "execution_count": 14,
   "id": "9554af2f-7715-4c10-a2f8-a2dba73fe567",
   "metadata": {},
   "outputs": [],
   "source": [
    "Steam_data = sc.read.csv(\"kaggle/all_reviews.csv\",header=True, inferSchema=True)"
   ]
  },
  {
   "cell_type": "code",
   "execution_count": 15,
   "id": "ed6d90de-57ec-4493-8f94-97856aea2996",
   "metadata": {},
   "outputs": [],
   "source": [
    "Steam_data = Steam_data.filter(Steam_data.language == 'english') ## English Only Reviews, don't have to do this if we are not looking at text data. Should do this for NLP\n",
    "Steam_data = Steam_data.filter((Steam_data.voted_up == '0') | (Steam_data.voted_up == '1')) ## There's reviews in some of these"
   ]
  },
  {
   "cell_type": "code",
   "execution_count": 16,
   "id": "2643d281-f660-4b47-8b57-0a99490ffa1f",
   "metadata": {},
   "outputs": [
    {
     "data": {
      "text/plain": [
       "[('recommendationid', 'string'),\n",
       " ('appid', 'string'),\n",
       " ('game', 'string'),\n",
       " ('author_steamid', 'string'),\n",
       " ('author_num_games_owned', 'string'),\n",
       " ('author_num_reviews', 'string'),\n",
       " ('author_playtime_forever', 'string'),\n",
       " ('author_playtime_last_two_weeks', 'string'),\n",
       " ('author_playtime_at_review', 'string'),\n",
       " ('author_last_played', 'string'),\n",
       " ('language', 'string'),\n",
       " ('review', 'string'),\n",
       " ('timestamp_created', 'string'),\n",
       " ('timestamp_updated', 'string'),\n",
       " ('voted_up', 'string'),\n",
       " ('votes_up', 'string'),\n",
       " ('votes_funny', 'string'),\n",
       " ('weighted_vote_score', 'string'),\n",
       " ('comment_count', 'string'),\n",
       " ('steam_purchase', 'string'),\n",
       " ('received_for_free', 'string'),\n",
       " ('written_during_early_access', 'string'),\n",
       " ('hidden_in_steam_china', 'string'),\n",
       " ('steam_china_location', 'string')]"
      ]
     },
     "execution_count": 16,
     "metadata": {},
     "output_type": "execute_result"
    }
   ],
   "source": [
    "Steam_data.dtypes"
   ]
  },
  {
   "cell_type": "code",
   "execution_count": 17,
   "id": "208bdd00-b039-4d28-95e8-37a68938bcbd",
   "metadata": {},
   "outputs": [],
   "source": [
    "## Selecting only studied columns, limiting columns\n",
    "Select_Steam = Steam_data.select(\n",
    "    'author_playtime_forever',\n",
    "    'author_playtime_at_review',\n",
    "    'author_playtime_last_two_weeks',\n",
    "    'voted_up'\n",
    ").cache()"
   ]
  },
  {
   "cell_type": "markdown",
   "id": "24548096-0f19-4625-94ec-a88c33efd95c",
   "metadata": {},
   "source": [
    "Data Exploration"
   ]
  },
  {
   "cell_type": "code",
   "execution_count": 18,
   "id": "b6e63649-69c5-4f94-bf8c-5993de7ce0ec",
   "metadata": {},
   "outputs": [
    {
     "name": "stdout",
     "output_type": "stream",
     "text": [
      "+-----------------------+-------------------------+------------------------------+--------+\n",
      "|author_playtime_forever|author_playtime_at_review|author_playtime_last_two_weeks|voted_up|\n",
      "+-----------------------+-------------------------+------------------------------+--------+\n",
      "|                    197|                      197|                            41|       1|\n",
      "|                  12107|                    12107|                             0|       1|\n",
      "|                  42519|                    42515|                             3|       1|\n",
      "|                     30|                       30|                             0|       1|\n",
      "|                    209|                      209|                           200|       1|\n",
      "+-----------------------+-------------------------+------------------------------+--------+\n",
      "only showing top 5 rows\n",
      "\n"
     ]
    }
   ],
   "source": [
    "Select_Steam.show(5)"
   ]
  },
  {
   "cell_type": "code",
   "execution_count": 25,
   "id": "a5701143-cde9-4584-82e6-187265f82495",
   "metadata": {},
   "outputs": [],
   "source": [
    "# Converting columns to float\n",
    "Select_Steam = Select_Steam.withColumn('author_playtime_forever', col('author_playtime_forever').cast('float')) \\\n",
    "                           .withColumn('author_playtime_at_review', col('author_playtime_at_review').cast('float')) \\\n",
    "                           .withColumn('author_playtime_last_two_weeks', col('author_playtime_last_two_weeks').cast('float')) \\\n",
    "                           .withColumn('voted_up', col('voted_up').cast('float'))\n",
    "\n",
    "# Filling the null values with 0\n",
    "Select_Steam = Select_Steam.na.fill(0)"
   ]
  },
  {
   "cell_type": "code",
   "execution_count": 26,
   "id": "a8ece520-7e6f-40a4-a6e8-95a8a30bfbdf",
   "metadata": {},
   "outputs": [],
   "source": [
    "assembler = VectorAssembler(inputCols=Select_Steam.columns[:1], outputCol=\"features\")\n",
    "df = assembler.transform(Select_Steam)\n",
    "df = df.withColumn('voted_up', df['voted_up'].cast('float'))\n",
    "train_data, test_data = df.randomSplit([0.8, 0.2], seed=42)\n",
    "log_reg = LogisticRegression(featuresCol=\"features\", labelCol=\"voted_up\")\n",
    "log_reg_model = log_reg.fit(train_data)"
   ]
  },
  {
   "cell_type": "markdown",
   "id": "24f23747-988a-49c9-b8d6-e9a9105d720f",
   "metadata": {},
   "source": [
    "### Fitting graph"
   ]
  },
  {
   "cell_type": "code",
   "execution_count": 28,
   "id": "a39800dc-245c-4cff-9c15-676456b843fd",
   "metadata": {},
   "outputs": [
    {
     "name": "stdout",
     "output_type": "stream",
     "text": [
      "Accuracy: 0.8665551161771171\n"
     ]
    }
   ],
   "source": [
    "predictions = log_reg_model.transform(test_data)\n",
    "evaluator = MulticlassClassificationEvaluator(labelCol='voted_up', predictionCol='prediction', metricName='accuracy')\n",
    "accuracy = evaluator.evaluate(predictions)\n",
    "\n",
    "print(\"Accuracy:\", accuracy)"
   ]
  },
  {
   "cell_type": "code",
   "execution_count": 33,
   "id": "500f9416-bc98-48bf-b676-46555e31b5a1",
   "metadata": {},
   "outputs": [
    {
     "name": "stdout",
     "output_type": "stream",
     "text": [
      "Validation Accuracy: 0.6411791284531642\n"
     ]
    }
   ],
   "source": [
    "# Evaluating the model on the test set\n",
    "evaluator = BinaryClassificationEvaluator(labelCol='voted_up')\n",
    "validation_accuracy = evaluator.evaluate(predictions)\n",
    "print(\"Validation Accuracy:\", validation_accuracy)"
   ]
  },
  {
   "cell_type": "code",
   "execution_count": 34,
   "id": "ca0d232d-39df-4551-873c-2e005f746bc4",
   "metadata": {},
   "outputs": [
    {
     "name": "stdout",
     "output_type": "stream",
     "text": [
      "Training Accuracy: 0.8665888145515419\n"
     ]
    }
   ],
   "source": [
    "# Getting training accuracy from the model summary\n",
    "train_summary = log_reg_model.summary\n",
    "training_accuracy = train_summary.accuracy\n",
    "print(\"Training Accuracy:\", training_accuracy)"
   ]
  },
  {
   "cell_type": "code",
   "execution_count": 35,
   "id": "2dd6e317-5899-4221-a62b-8e65eaee8c59",
   "metadata": {},
   "outputs": [],
   "source": [
    "# Creating a df to store accuracies for plotting\n",
    "accuracies = pd.DataFrame({\n",
    "    'Data': ['Training', 'Validation'],\n",
    "    'Accuracy': [training_accuracy, validation_accuracy]\n",
    "})"
   ]
  },
  {
   "cell_type": "code",
   "execution_count": 38,
   "id": "28568754-eb11-4589-8199-caae51d88637",
   "metadata": {},
   "outputs": [
    {
     "data": {
      "image/png": "[encoded data removed]",
      "text/plain": [
       "<Figure size 500x300 with 1 Axes>"
      ]
     },
     "metadata": {},
     "output_type": "display_data"
    }
   ],
   "source": [
    "# Plotting the accuracies\n",
    "plt.figure(figsize=(5, 3))\n",
    "sns.barplot(x='Data', y='Accuracy', data=accuracies)\n",
    "plt.ylim(0, 1)\n",
    "plt.title('Training vs Validation Accuracy')\n",
    "plt.ylabel('Accuracy')\n",
    "plt.xlabel('Data')\n",
    "plt.show()"
   ]
  },
  {
   "cell_type": "code",
   "execution_count": null,
   "id": "d00c7ee7-1b99-47e6-8416-a7f021a1ba25",
   "metadata": {},
   "outputs": [],
   "source": [
    "Select_Steam.describe().show()"
   ]
  },
  {
   "cell_type": "code",
   "execution_count": null,
   "id": "61391323-e7c8-4ed6-9627-a00db8604011",
   "metadata": {},
   "outputs": [],
   "source": [
    "Select_Steam.count()"
   ]
  },
  {
   "cell_type": "code",
   "execution_count": null,
   "id": "0a9f6d15-0e79-4f7e-af3b-36f03cc3f023",
   "metadata": {},
   "outputs": [],
   "source": [
    "Sample_Steam = Select_Steam.sample(fraction = 0.005, withReplacement=False)\n",
    "pandas_steam = Sample_Steam.toPandas()"
   ]
  },
  {
   "cell_type": "code",
   "execution_count": null,
   "id": "c6fefa58-02ef-4f37-877d-b7e55aeeb14b",
   "metadata": {},
   "outputs": [],
   "source": [
    "for n in pandas_steam:\n",
    "    pandas_steam[n] = pandas_steam[n].astype(int)"
   ]
  },
  {
   "cell_type": "code",
   "execution_count": null,
   "id": "7d0f52f8-c760-486a-94b7-e9dfc8544870",
   "metadata": {},
   "outputs": [],
   "source": [
    "pandas_steam.describe()"
   ]
  },
  {
   "cell_type": "code",
   "execution_count": null,
   "id": "1efbbc52-b08e-4500-8c95-f32695c0a945",
   "metadata": {},
   "outputs": [],
   "source": [
    "sns.histplot(data=pandas_steam, x='author_playtime_forever', hue ='voted_up',bins=20, log_scale=True)\n",
    "plt.title('Playtime Forever Distribution (Logarithmic Scale)')\n",
    "plt.xlabel('Playtime Forever (minutes)')"
   ]
  },
  {
   "cell_type": "code",
   "execution_count": null,
   "id": "3f599dee-cf72-4f7a-a3da-911fa46d69e0",
   "metadata": {},
   "outputs": [],
   "source": [
    "sns.histplot(data=pandas_steam, x='author_playtime_last_two_weeks', hue ='voted_up',bins=20, log_scale=True)\n",
    "plt.title('Playtime Last Two Weeks Distribution (Logarithmic Scale)')\n",
    "plt.xlabel('Playtime Last Two Weeks (minutes)')"
   ]
  },
  {
   "cell_type": "code",
   "execution_count": null,
   "id": "7f373acb-c97d-4f0b-9e80-9138044868fe",
   "metadata": {},
   "outputs": [],
   "source": [
    "sns.histplot(data=pandas_steam, x='author_playtime_at_review', hue ='voted_up',bins=20, log_scale=True)\n",
    "plt.title('Playtime at Review Distribution (Logarithmic Scale)')\n",
    "plt.xlabel('Playtime at Review (minutes)')"
   ]
  },
  {
   "cell_type": "markdown",
   "id": "cdb490cf-4909-4435-947b-6b26186da2b7",
   "metadata": {},
   "source": [
    "4. Plot Data"
   ]
  },
  {
   "cell_type": "code",
   "execution_count": null,
   "id": "4ce1a212-3acd-4b5e-8a5f-619c867e9128",
   "metadata": {},
   "outputs": [],
   "source": [
    "plt.figure(figsize=(10,5))\n",
    "sns.scatterplot(data=pandas_steam, x='author_playtime_forever', y='author_playtime_last_two_weeks', hue='voted_up')\n",
    "plt.title('Playtime Forever vs Playtime Last Two Weeks')\n",
    "plt.xlabel('Playtime Forever (minutes)')\n",
    "plt.ylabel('Playtime Last Two Weeks (minutes)')\n",
    "plt.show()"
   ]
  },
  {
   "cell_type": "code",
   "execution_count": null,
   "id": "dd56128d-b67f-44a6-afef-2d0f2feb00cf",
   "metadata": {},
   "outputs": [],
   "source": [
    "plt.figure(figsize=(10,5))\n",
    "sns.scatterplot(data=pandas_steam, x='author_playtime_forever', y='author_playtime_at_review', hue='voted_up')\n",
    "plt.title('Playtime Forever vs Playtime at Review')\n",
    "plt.xlabel('Playtime Forever (minutes)')\n",
    "plt.ylabel('Playtime at Review (minutes)')\n",
    "plt.show()"
   ]
  },
  {
   "cell_type": "code",
   "execution_count": null,
   "id": "64d8b57e-5ad1-4dfc-9627-fc280afaaa16",
   "metadata": {},
   "outputs": [],
   "source": [
    "plt.figure(figsize=(10,5))\n",
    "sns.scatterplot(data=pandas_steam, x='author_playtime_last_two_weeks', y='author_playtime_at_review', hue='voted_up')\n",
    "plt.title('Playtime Forever vs Playtime Last Two Weeks')\n",
    "plt.xlabel('Playtime Last Two Weeks (minutes)')\n",
    "plt.ylabel('Playtime at Review (minutes)')\n",
    "plt.show()"
   ]
  }
 ],
 "metadata": {
  "kernelspec": {
   "display_name": "Python 3 (ipykernel)",
   "language": "python",
   "name": "python3"
  },
  "language_info": {
   "codemirror_mode": {
    "name": "ipython",
    "version": 3
   },
   "file_extension": ".py",
   "mimetype": "text/x-python",
   "name": "python",
   "nbconvert_exporter": "python",
   "pygments_lexer": "ipython3",
   "version": "3.11.6"
  }
 },
 "nbformat": 4,
 "nbformat_minor": 5
}
