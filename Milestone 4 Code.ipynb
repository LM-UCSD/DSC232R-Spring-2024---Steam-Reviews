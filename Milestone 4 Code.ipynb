{
 "cells": [
  {
   "cell_type": "code",
   "execution_count": 1,
   "id": "bbf6bed0-e251-4f33-84dc-8cf2eddfc51e",
   "metadata": {},
   "outputs": [
    {
     "name": "stderr",
     "output_type": "stream",
     "text": [
      "Matplotlib created a temporary cache directory at /tmp/matplotlib-eyjkp45m because the default path (/home/jovyan/.cache/matplotlib) is not a writable directory; it is highly recommended to set the MPLCONFIGDIR environment variable to a writable directory, in particular to speed up the import of Matplotlib and to better support multiprocessing.\n"
     ]
    }
   ],
   "source": [
    "from pyspark.sql import SparkSession\n",
    "import pandas as pd\n",
    "import matplotlib.pyplot as plt\n",
    "import seaborn as sns\n",
    "from pyspark.sql.functions import isnan, when, count, col\n",
    "\n",
    "from pyspark.ml.feature import VectorAssembler\n",
    "from pyspark.ml.classification import LogisticRegression\n",
    "from pyspark.ml.evaluation import MulticlassClassificationEvaluator, BinaryClassificationEvaluator\n",
    "\n",
    "from pyspark.ml.feature import ChiSqSelector, UnivariateFeatureSelector\n",
    "from pyspark.ml.feature import VarianceThresholdSelector\n",
    "from pyspark.ml.stat import Correlation\n",
    "from pyspark.ml.tuning import CrossValidator, ParamGridBuilder, CrossValidatorModel"
   ]
  },
  {
   "cell_type": "code",
   "execution_count": 2,
   "id": "2976e4b7-7e1e-4a55-8206-737b1294997e",
   "metadata": {},
   "outputs": [],
   "source": [
    "sc = SparkSession.builder \\\n",
    "    .config(\"spark.driver.memory\", \"16g\") \\\n",
    "    .config(\"spark.executor.memory\", \"4g\") \\\n",
    "    .config('spark.executor.instances', 4) \\\n",
    "    .appName(\"Steam Reviews\") \\\n",
    "    .getOrCreate()"
   ]
  },
  {
   "cell_type": "code",
   "execution_count": 3,
   "id": "9554af2f-7715-4c10-a2f8-a2dba73fe567",
   "metadata": {},
   "outputs": [],
   "source": [
    "# Note that the file pay may need to be updated depending on csv file location\n",
    "# Full file path could be something like \"/expanse/lustre/projects/uci150/USERNAME/kaggle/all_reviews.csv\" with USERNAME replaced appropriately\n",
    "Steam_data = sc.read.csv(\"kaggle/all_reviews.csv\",header=True, inferSchema=True)"
   ]
  },
  {
   "cell_type": "markdown",
   "id": "e550f8f8-9992-42f6-9211-dbb313d4716a",
   "metadata": {},
   "source": [
    "# Data pre-processing"
   ]
  },
  {
   "cell_type": "code",
   "execution_count": 4,
   "id": "a7a91b55-47e2-440e-9f61-09a8fad865d4",
   "metadata": {},
   "outputs": [
    {
     "data": {
      "text/plain": [
       "[('recommendationid', 'string'),\n",
       " ('appid', 'string'),\n",
       " ('game', 'string'),\n",
       " ('author_steamid', 'string'),\n",
       " ('author_num_games_owned', 'string'),\n",
       " ('author_num_reviews', 'string'),\n",
       " ('author_playtime_forever', 'string'),\n",
       " ('author_playtime_last_two_weeks', 'string'),\n",
       " ('author_playtime_at_review', 'string'),\n",
       " ('author_last_played', 'string'),\n",
       " ('language', 'string'),\n",
       " ('review', 'string'),\n",
       " ('timestamp_created', 'string'),\n",
       " ('timestamp_updated', 'string'),\n",
       " ('voted_up', 'string'),\n",
       " ('votes_up', 'string'),\n",
       " ('votes_funny', 'string'),\n",
       " ('weighted_vote_score', 'string'),\n",
       " ('comment_count', 'string'),\n",
       " ('steam_purchase', 'string'),\n",
       " ('received_for_free', 'string'),\n",
       " ('written_during_early_access', 'string'),\n",
       " ('hidden_in_steam_china', 'string'),\n",
       " ('steam_china_location', 'string')]"
      ]
     },
     "execution_count": 4,
     "metadata": {},
     "output_type": "execute_result"
    }
   ],
   "source": [
    "# Review data types imported\n",
    "Steam_data.dtypes"
   ]
  },
  {
   "cell_type": "code",
   "execution_count": 5,
   "id": "a8b544e9-87f9-4b64-9cf5-1455320e340d",
   "metadata": {},
   "outputs": [],
   "source": [
    "# Specify list of correct data types for each column\n",
    "types = [('recommendationid', 'bigint'),\n",
    " ('appid', 'bigint'),\n",
    " ('game', 'string'),\n",
    " ('author_steamid', 'bigint'),\n",
    " ('author_num_games_owned', 'int'),\n",
    " ('author_num_reviews', 'int'),\n",
    " ('author_playtime_forever', 'double'),\n",
    " ('author_playtime_last_two_weeks', 'double'),\n",
    " ('author_playtime_at_review', 'int'),\n",
    " ('author_last_played', 'int'),\n",
    " ('language', 'string'),\n",
    " ('review', 'string'),\n",
    " ('timestamp_created', 'string'),\n",
    " ('timestamp_updated', 'string'),\n",
    " ('voted_up', 'float'),\n",
    " ('votes_up', 'int'),\n",
    " ('votes_funny', 'int'),\n",
    " ('weighted_vote_score', 'float'),\n",
    " ('comment_count', 'int'),\n",
    " ('steam_purchase', 'boolean'),\n",
    " ('received_for_free', 'boolean'),\n",
    " ('written_during_early_access', 'boolean'),\n",
    " ('hidden_in_steam_china', 'boolean'),\n",
    " ('steam_china_location', 'string')]"
   ]
  },
  {
   "cell_type": "code",
   "execution_count": 6,
   "id": "5c0c65a2-0fa8-479c-8405-e875559afe96",
   "metadata": {},
   "outputs": [],
   "source": [
    "# Correct any incorrectly imported types to their correct type\n",
    "for pair in types:\n",
    "    column_name = pair[0]\n",
    "    data_type = pair[1]\n",
    "    Steam_data = Steam_data.withColumn(column_name, col(column_name).cast(data_type))"
   ]
  },
  {
   "cell_type": "code",
   "execution_count": 7,
   "id": "ed6d90de-57ec-4493-8f94-97856aea2996",
   "metadata": {},
   "outputs": [],
   "source": [
    "# Some pre-filtering steps\n",
    "Steam_data = Steam_data.filter(Steam_data.language == 'english') ## English Only Reviews, don't have to do this if we are not looking at text data. Should do this for NLP\n",
    "Steam_data = Steam_data.filter((Steam_data.voted_up == '0') | (Steam_data.voted_up == '1')) ## There's reviews in some of these"
   ]
  },
  {
   "cell_type": "code",
   "execution_count": 8,
   "id": "208bdd00-b039-4d28-95e8-37a68938bcbd",
   "metadata": {},
   "outputs": [],
   "source": [
    "## Selecting only studied columns, limiting columns\n",
    "Select_Steam = Steam_data.select(\n",
    "    'author_playtime_forever',\n",
    "    'author_playtime_at_review',\n",
    "    'author_playtime_last_two_weeks',\n",
    "    'voted_up'\n",
    ").cache()"
   ]
  },
  {
   "cell_type": "code",
   "execution_count": 9,
   "id": "046dc430-dc52-472e-b652-98a267adffc0",
   "metadata": {},
   "outputs": [
    {
     "name": "stdout",
     "output_type": "stream",
     "text": [
      "+-----------------------+-------------------------+------------------------------+--------+\n",
      "|author_playtime_forever|author_playtime_at_review|author_playtime_last_two_weeks|voted_up|\n",
      "+-----------------------+-------------------------+------------------------------+--------+\n",
      "|                      0|                        0|                             0|       0|\n",
      "+-----------------------+-------------------------+------------------------------+--------+\n",
      "\n"
     ]
    }
   ],
   "source": [
    "# Filter out rows with nulls\n",
    "col_list = list(Select_Steam.columns)\n",
    "Select_Steam = Select_Steam.na.drop(subset=col_list)\n",
    "\n",
    "Select_Steam.select([count(when(isnan(c) | col(c).isNull(), c)).alias(c) for c in Select_Steam.columns]).show()"
   ]
  },
  {
   "cell_type": "code",
   "execution_count": 10,
   "id": "0dee04e0-f741-4438-943a-99492e0eaa58",
   "metadata": {},
   "outputs": [],
   "source": [
    "# Generate dataframe for pyspark machine learning\n",
    "assembler = VectorAssembler(inputCols=Select_Steam.columns[:3], outputCol=\"features\", handleInvalid='skip')\n",
    "df = assembler.transform(Select_Steam)"
   ]
  },
  {
   "cell_type": "markdown",
   "id": "e41751c4-d80b-456b-aaeb-944311b4feb2",
   "metadata": {},
   "source": [
    "# Initial Model Fitting"
   ]
  },
  {
   "cell_type": "code",
   "execution_count": 11,
   "id": "a8ece520-7e6f-40a4-a6e8-95a8a30bfbdf",
   "metadata": {},
   "outputs": [],
   "source": [
    "# Establishing variable, train/test data sets, and fitting logistic regression model\n",
    "train_data, test_data = df.randomSplit([0.8, 0.2], seed=42)\n",
    "\n",
    "log_reg = LogisticRegression(featuresCol=\"features\", labelCol=\"voted_up\")\n",
    "\n",
    "log_reg_model = log_reg.fit(train_data)\n",
    "param = [0.01, 0.1, 1, 10, 100]"
   ]
  },
  {
   "cell_type": "code",
   "execution_count": 12,
   "id": "419f7bab-ffd1-48fc-b22c-80e71980d38e",
   "metadata": {},
   "outputs": [],
   "source": [
    "# Generating data to plot logloss for train/test sets\n",
    "train_error=[]\n",
    "test_error=[]\n",
    "\n",
    "evaluator = MulticlassClassificationEvaluator(labelCol='voted_up', predictionCol='prediction', metricName='logLoss')\n",
    "\n",
    "for i in param:\n",
    "    log_reg = LogisticRegression(featuresCol=\"features\", labelCol=\"voted_up\", regParam=1/i)\n",
    "    log_reg_model = log_reg.fit(train_data)\n",
    "    test_predictions = log_reg_model.transform(test_data)\n",
    "    train_predictions = log_reg_model.transform(train_data)\n",
    "    test_errors=evaluator.evaluate(test_predictions)\n",
    "    train_errors=evaluator.evaluate(train_predictions)\n",
    "    test_error.append(test_errors)\n",
    "    train_error.append(train_errors)"
   ]
  },
  {
   "cell_type": "code",
   "execution_count": 13,
   "id": "cf6c0330-8da4-4c5e-9a8c-5123703986e5",
   "metadata": {},
   "outputs": [
    {
     "data": {
      "image/png": "[encoded data removed]",
      "text/plain": [
       "<Figure size 1000x600 with 1 Axes>"
      ]
     },
     "metadata": {},
     "output_type": "display_data"
    }
   ],
   "source": [
    "plt.figure(figsize=(10,6))\n",
    "plt.plot(param, train_error, label=\"Train Error\", color='blue', marker='o')\n",
    "plt.plot(param, test_error, label=\"Test Error\", color='green', marker='o')\n",
    "plt.xlabel(\"Model Complexity\")\n",
    "plt.ylabel(\"Log Loss\")\n",
    "plt.legend()\n",
    "plt.xscale('log')"
   ]
  },
  {
   "cell_type": "code",
   "execution_count": 14,
   "id": "f91d98bd-3e2b-488f-b27b-5c39434da960",
   "metadata": {},
   "outputs": [],
   "source": [
    "# Generating data to plot accuracy for train/test sets\n",
    "train_error=[]\n",
    "test_error=[]\n",
    "\n",
    "evaluator = MulticlassClassificationEvaluator(labelCol='voted_up', predictionCol='prediction', metricName='accuracy')\n",
    "\n",
    "for reg_param in param:\n",
    "    log_reg = LogisticRegression(featuresCol=\"features\", labelCol=\"voted_up\", regParam=1/reg_param)\n",
    "    log_reg_model = log_reg.fit(train_data)\n",
    "    test_predictions = log_reg_model.transform(test_data)\n",
    "    train_predictions = log_reg_model.transform(train_data)\n",
    "    \n",
    "    train_acc = evaluator.evaluate(train_predictions)\n",
    "    test_acc = evaluator.evaluate(test_predictions)\n",
    "    train_errors=1-train_acc\n",
    "    test_errors=1-test_acc\n",
    "    \n",
    "    test_error.append(test_errors)\n",
    "    train_error.append(train_errors)"
   ]
  },
  {
   "cell_type": "code",
   "execution_count": 15,
   "id": "584ef080-46e0-49c1-b630-1c0f921fb9fd",
   "metadata": {},
   "outputs": [
    {
     "data": {
      "text/plain": [
       "[0.1334158581698872,\n",
       " 0.1334158581698872,\n",
       " 0.1334158581698872,\n",
       " 0.1334158581698872,\n",
       " 0.13341851934355675]"
      ]
     },
     "execution_count": 15,
     "metadata": {},
     "output_type": "execute_result"
    }
   ],
   "source": [
    "train_error"
   ]
  },
  {
   "cell_type": "code",
   "execution_count": 16,
   "id": "25781246-947d-4466-a74e-8c6e2509a720",
   "metadata": {},
   "outputs": [
    {
     "data": {
      "image/png": "[encoded data removed]",
      "text/plain": [
       "<Figure size 1000x600 with 1 Axes>"
      ]
     },
     "metadata": {},
     "output_type": "display_data"
    }
   ],
   "source": [
    "plt.figure(figsize=(10,6))\n",
    "plt.plot(param, train_error, label=\"Train Error\", color='blue', marker='o')\n",
    "plt.plot(param, test_error, label=\"Test Error\", color='green', marker='o')\n",
    "plt.xlabel(\"Model Complexity\")\n",
    "plt.ylabel(\"Error\")\n",
    "plt.legend()\n",
    "plt.xticks(param)\n",
    "plt.xscale('log')"
   ]
  },
  {
   "cell_type": "markdown",
   "id": "62fb3458-e23b-4a83-976b-c2123474c825",
   "metadata": {},
   "source": [
    "# Next Steps\n",
    "The code blocks that follow contain some feature selection methods to begin exploring potential updates to our model."
   ]
  },
  {
   "cell_type": "code",
   "execution_count": 17,
   "id": "6d54a6cd-7e53-4d8d-b560-60376115cbe3",
   "metadata": {},
   "outputs": [],
   "source": [
    "## Selecting only studied columns, limiting columns\n",
    "Select_Steam_fselect = Steam_data.select(\n",
    "    'author_playtime_forever',\n",
    "    'author_playtime_at_review',\n",
    "    'author_playtime_last_two_weeks',\n",
    "    'author_num_games_owned',\n",
    "    'author_num_reviews',\n",
    "    'voted_up'\n",
    ").cache()"
   ]
  },
  {
   "cell_type": "code",
   "execution_count": 18,
   "id": "52452b5b-a6be-4f80-a02d-525955182400",
   "metadata": {},
   "outputs": [],
   "source": [
    "Select_Steam_fselect = Select_Steam_fselect.withColumn('voted_up', Select_Steam_fselect['voted_up'].cast('float'))\n",
    "#Select_Steam_fselect = Select_Steam_fselect.withColumn('written_during_early_access', Select_Steam_fselect['written_during_early_access'].cast('float'))"
   ]
  },
  {
   "cell_type": "code",
   "execution_count": 19,
   "id": "918f0425-5d1c-4542-9813-bbf116eb6b65",
   "metadata": {},
   "outputs": [],
   "source": [
    "assembler = VectorAssembler(inputCols=Select_Steam_fselect.columns[:5], outputCol=\"features\", handleInvalid='skip')\n",
    "df = assembler.transform(Select_Steam_fselect)"
   ]
  },
  {
   "cell_type": "code",
   "execution_count": 20,
   "id": "dfb51670-d358-4a17-852f-181d3fa7229a",
   "metadata": {},
   "outputs": [
    {
     "name": "stdout",
     "output_type": "stream",
     "text": [
      "+--------------------+-----+\n",
      "|            features|label|\n",
      "+--------------------+-----+\n",
      "|[197.0,197.0,41.0...|  1.0|\n",
      "|[12107.0,12107.0,...|  1.0|\n",
      "|[42519.0,42515.0,...|  1.0|\n",
      "|[30.0,30.0,0.0,71...|  1.0|\n",
      "|[209.0,209.0,200....|  1.0|\n",
      "+--------------------+-----+\n",
      "only showing top 5 rows\n",
      "\n"
     ]
    }
   ],
   "source": [
    "df = df.select('features', 'voted_up').withColumnRenamed('voted_up', 'label')\n",
    "df.show(5)"
   ]
  },
  {
   "cell_type": "code",
   "execution_count": 21,
   "id": "988e1d3c-55ea-4223-a3b7-b0322a31230f",
   "metadata": {},
   "outputs": [
    {
     "name": "stdout",
     "output_type": "stream",
     "text": [
      "+-----------------------+-------------------------+------------------------------+----------------------+------------------+--------+--------------------+\n",
      "|author_playtime_forever|author_playtime_at_review|author_playtime_last_two_weeks|author_num_games_owned|author_num_reviews|voted_up|            features|\n",
      "+-----------------------+-------------------------+------------------------------+----------------------+------------------+--------+--------------------+\n",
      "|                  197.0|                      197|                          41.0|                     0|                 2|     1.0|[197.0,197.0,41.0...|\n",
      "|                12107.0|                    12107|                           0.0|                    69|                 1|     1.0|[12107.0,12107.0,...|\n",
      "|                42519.0|                    42515|                           3.0|                     0|                 5|     1.0|[42519.0,42515.0,...|\n",
      "|                   30.0|                       30|                           0.0|                    71|                34|     1.0|[30.0,30.0,0.0,71...|\n",
      "|                  209.0|                      209|                         200.0|                     5|                 6|     1.0|[209.0,209.0,200....|\n",
      "+-----------------------+-------------------------+------------------------------+----------------------+------------------+--------+--------------------+\n",
      "only showing top 5 rows\n",
      "\n"
     ]
    }
   ],
   "source": [
    "assembler = VectorAssembler(inputCols=Select_Steam_fselect.columns[:6], outputCol=\"features\", handleInvalid='skip')\n",
    "df_all = assembler.transform(Select_Steam_fselect)\n",
    "df_all.show(5)"
   ]
  },
  {
   "cell_type": "code",
   "execution_count": 22,
   "id": "3414737c-2b8a-41a5-9c09-c2dc88fdbd35",
   "metadata": {},
   "outputs": [],
   "source": [
    "df_all = df_all.select('features')"
   ]
  },
  {
   "cell_type": "code",
   "execution_count": 23,
   "id": "fabd439b-0866-4a7c-912f-ab86d3571664",
   "metadata": {},
   "outputs": [
    {
     "name": "stdout",
     "output_type": "stream",
     "text": [
      "Pearson correlation matrix:\n",
      "DenseMatrix([[ 1.        ,  0.7886514 ,  0.34475927, -0.0321441 , -0.03143936,\n",
      "               0.0222244 ],\n",
      "             [ 0.7886514 ,  1.        ,  0.20948163, -0.02643021, -0.02726179,\n",
      "              -0.00461497],\n",
      "             [ 0.34475927,  0.20948163,  1.        , -0.01921135, -0.01409563,\n",
      "               0.01132714],\n",
      "             [-0.0321441 , -0.02643021, -0.01921135,  1.        ,  0.27862913,\n",
      "              -0.03877855],\n",
      "             [-0.03143936, -0.02726179, -0.01409563,  0.27862913,  1.        ,\n",
      "              -0.03944351],\n",
      "             [ 0.0222244 , -0.00461497,  0.01132714, -0.03877855, -0.03944351,\n",
      "               1.        ]])\n"
     ]
    }
   ],
   "source": [
    "\n",
    "r1 = Correlation.corr(df_all, \"features\").head()\n",
    "print(\"Pearson correlation matrix:\\n\" + str(r1[0]))"
   ]
  },
  {
   "cell_type": "markdown",
   "id": "bbcab89a-6a49-4375-ab59-9550d4b79ed7",
   "metadata": {},
   "source": [
    "# Decision Tree"
   ]
  },
  {
   "cell_type": "code",
   "execution_count": 28,
   "id": "26ad223c-7c81-4b62-a54d-9f63245a21fc",
   "metadata": {},
   "outputs": [],
   "source": [
    "from pyspark.ml.classification import DecisionTreeClassifier\n",
    "\n",
    "train_data, test_data = df.randomSplit([0.8, 0.2], seed=42)\n",
    "\n",
    "dec_tree=DecisionTreeClassifier(featuresCol=\"features\", labelCol=\"label\")\n",
    "\n",
    "decision_tree=dec_tree.fit(train_data)"
   ]
  },
  {
   "cell_type": "code",
   "execution_count": 30,
   "id": "01f1abda-5978-4b80-be71-16a9273e3444",
   "metadata": {},
   "outputs": [
    {
     "name": "stdout",
     "output_type": "stream",
     "text": [
      "+-----+----------+--------------------+\n",
      "|label|prediction|         probability|\n",
      "+-----+----------+--------------------+\n",
      "|  0.0|       1.0|[0.26572548090560...|\n",
      "|  1.0|       0.0|[0.50014459061469...|\n",
      "|  1.0|       0.0|[0.50014459061469...|\n",
      "|  0.0|       0.0|[0.50014459061469...|\n",
      "|  1.0|       1.0|[0.37475817215444...|\n",
      "|  1.0|       1.0|[0.37475817215444...|\n",
      "|  0.0|       1.0|[0.28822347986517...|\n",
      "|  1.0|       1.0|[0.28822347986517...|\n",
      "|  1.0|       1.0|[0.10488626259555...|\n",
      "|  1.0|       1.0|[0.10488626259555...|\n",
      "|  1.0|       1.0|[0.10488626259555...|\n",
      "|  1.0|       1.0|[0.10488626259555...|\n",
      "|  0.0|       1.0|[0.10488626259555...|\n",
      "|  1.0|       1.0|[0.10488626259555...|\n",
      "|  1.0|       1.0|[0.10488626259555...|\n",
      "|  1.0|       1.0|[0.10488626259555...|\n",
      "|  1.0|       1.0|[0.10488626259555...|\n",
      "|  1.0|       1.0|[0.10488626259555...|\n",
      "|  1.0|       1.0|[0.10488626259555...|\n",
      "|  1.0|       1.0|[0.10488626259555...|\n",
      "+-----+----------+--------------------+\n",
      "only showing top 20 rows\n",
      "\n"
     ]
    }
   ],
   "source": [
    "predict=decision_tree.transform(test_data)\n",
    "predict.select(\"label\", \"prediction\", \"probability\").show()"
   ]
  },
  {
   "cell_type": "code",
   "execution_count": 31,
   "id": "bd495a01-c39d-4b68-a4a7-76fcbd8c2cd2",
   "metadata": {},
   "outputs": [
    {
     "data": {
      "text/plain": [
       "0.8666518258922112"
      ]
     },
     "execution_count": 31,
     "metadata": {},
     "output_type": "execute_result"
    }
   ],
   "source": [
    "evaluate=MulticlassClassificationEvaluator(labelCol=\"label\",predictionCol=\"prediction\", metricName=\"accuracy\")\n",
    "accuracy = evaluate.evaluate(predict)\n",
    "accuracy"
   ]
  },
  {
   "cell_type": "code",
   "execution_count": 32,
   "id": "741d46bd-51ed-48b4-af1a-c24254ff9971",
   "metadata": {},
   "outputs": [
    {
     "name": "stdout",
     "output_type": "stream",
     "text": [
      "+-----+----------+-------+\n",
      "|label|prediction|  count|\n",
      "+-----+----------+-------+\n",
      "|  1.0|       0.0|  77119|\n",
      "|  0.0|       0.0|  78019|\n",
      "|  1.0|       1.0|8553009|\n",
      "|  0.0|       1.0|1250902|\n",
      "+-----+----------+-------+\n",
      "\n"
     ]
    }
   ],
   "source": [
    "predict.groupBy(\"label\", \"prediction\").count().show()"
   ]
  },
  {
   "cell_type": "code",
   "execution_count": null,
   "id": "53a31d01-d98e-4d9e-a204-e0be11aad2d5",
   "metadata": {},
   "outputs": [],
   "source": []
  }
 ],
 "metadata": {
  "kernelspec": {
   "display_name": "Python 3 (ipykernel)",
   "language": "python",
   "name": "python3"
  },
  "language_info": {
   "codemirror_mode": {
    "name": "ipython",
    "version": 3
   },
   "file_extension": ".py",
   "mimetype": "text/x-python",
   "name": "python",
   "nbconvert_exporter": "python",
   "pygments_lexer": "ipython3",
   "version": "3.11.6"
  }
 },
 "nbformat": 4,
 "nbformat_minor": 5
}
